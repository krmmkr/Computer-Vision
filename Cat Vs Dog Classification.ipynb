{
  "cells": [
    {
      "metadata": {
        "_uuid": "8f2839f25d086af736a60e9eeb907d3b93b6e0e5",
        "_cell_guid": "b1076dfc-b9ad-4769-8c92-a6c4dae69d19",
        "trusted": true,
        "scrolled": false
      },
      "cell_type": "code",
      "source": "# This Python 3 environment comes with many helpful analytics libraries installed\n# It is defined by the kaggle/python docker image: https://github.com/kaggle/docker-python\n# For example, here's several helpful packages to load in \n\nimport numpy as np # linear algebra\nimport pandas as pd # data processing, CSV file I/O (e.g. pd.read_csv)\nimport cv2\nfrom tqdm import tqdm\nimport tensorflow as tf\n\nimport matplotlib.pyplot as plt\nfrom sklearn.model_selection import train_test_split\nfrom sklearn.metrics import confusion_matrix\nfrom sklearn.metrics import accuracy_score\nfrom sklearn.metrics import classification_report \nfrom sklearn.metrics import roc_curve, auc\n\n# Input data files are available in the \"../input/\" directory.\n# For example, running this (by clicking run or pressing Shift+Enter) will list the files in the input directory\n\nimport os\nprint(os.listdir(\"../input\"))\n\n# Any results you write to the current directory are saved as output.",
      "execution_count": 27,
      "outputs": [
        {
          "output_type": "stream",
          "text": "['test', 'sample_submission.csv', 'train']\n",
          "name": "stdout"
        }
      ]
    },
    {
      "metadata": {
        "trusted": true,
        "_uuid": "10abf343cc032d02449c76f9d292f9fba734d9b9"
      },
      "cell_type": "code",
      "source": "img_width = 50\nimg_height = 50\nTRAIN_DIR = '../input/train/'",
      "execution_count": 28,
      "outputs": []
    },
    {
      "metadata": {
        "_cell_guid": "79c7e3d0-c299-4dcb-8224-4455121ee9b0",
        "_uuid": "d629ff2d2480ee46fbb7e2d37f6b5fab8052498a",
        "trusted": true
      },
      "cell_type": "code",
      "source": "def load_img():\n    x = []\n    y = []\n    i=1\n    for img in tqdm(os.listdir(TRAIN_DIR)):\n        if 'dog' in img:\n            y.append(1)\n        elif 'cat' in img:\n            y.append(0)\n            \n        path = os.path.join(TRAIN_DIR, img)\n        img = cv2.imread(path)\n        img = cv2.resize(img , (img_width,img_height))\n        x.append(np.array(img))\n        i = i+1\n        if i >24500:\n            break\n            \n    return x, y",
      "execution_count": 29,
      "outputs": []
    },
    {
      "metadata": {
        "trusted": true,
        "_uuid": "0d1c14ef011ddb836a5a22a66cf59936169155d6",
        "scrolled": true
      },
      "cell_type": "code",
      "source": "x, y = load_img()",
      "execution_count": 30,
      "outputs": [
        
      ]
    },
    {
      "metadata": {
        "trusted": true,
        "_uuid": "d30cb2eaebbde7714aa47eecfedd118a7f397462"
      },
      "cell_type": "code",
      "source": "x = np.array(x)",
      "execution_count": 31,
      "outputs": []
    },
    {
      "metadata": {
        "trusted": true,
        "_uuid": "3511b477d5515d781c9cf5c0bbac802c952540f7"
      },
      "cell_type": "code",
      "source": "def error_rate(p, t):\n    return np.mean(p != t)\ndef standardize(x):\n    return (x/255)",
      "execution_count": 32,
      "outputs": []
    },
    {
      "metadata": {
        "trusted": true,
        "_uuid": "543d15161718499b58d36277f24ba0020c13891c"
      },
      "cell_type": "code",
      "source": "#split\nx_train, x_test, y_train, y_test = train_test_split(x, y, test_size=0.3, random_state=1)\ndel x\ndel y\nx_train = standardize(x_train)\nx_test = standardize(x_test)\ny_train = np.array(y_train)\ny_test = np.array(y_test)\ny_train = y_train.reshape(-1,1)\ny_test = y_test.reshape(-1,1)",
      "execution_count": 33,
      "outputs": []
    },
    {
      "metadata": {
        "trusted": true,
        "_uuid": "5ab28306e857b32d1ff580c198fbb540c20fd0cb"
      },
      "cell_type": "code",
      "source": "def convolution(x, w, b, pad):\n    conv_out = tf.nn.conv2d(x, w, strides=[1,1,1,1], padding=pad)\n    conv_out = tf.nn.bias_add(conv_out, b)\n    return conv_out\ndef pooling(conv_out):\n    pool_out = tf.nn.max_pool(conv_out, ksize=[1,2,2,1], strides=[1,2,2,1], padding=\"SAME\")\n    return tf.nn.relu(pool_out)",
      "execution_count": 34,
      "outputs": []
    },
    {
      "metadata": {
        "trusted": true,
        "_uuid": "495db512e3d6b7b92305a5ce79a86e36005ed717"
      },
      "cell_type": "code",
      "source": "def init_filter(shape, poolsz):\n    # w = np.random.randn(*shape) * np.sqrt(2) / np.sqrt(np.prod(shape[:-1]) + shape[-1]*np.prod(shape[:-2]) / np.prod(poolsz))\n    w = np.random.randn(*shape) * np.sqrt(2.0 / np.prod(shape[:-1]))\n    #w = np.random.randn(*shape)\n    return w.astype(np.float32)",
      "execution_count": 35,
      "outputs": []
    },
    {
      "metadata": {
        "trusted": true,
        "_uuid": "607d426dbaf860b98a84dc0c148f214cd44ee727"
      },
      "cell_type": "code",
      "source": "#hyperparameters\nmax_iter = 50\nlr=0.01\nN=x_train.shape[0]\nK=1\nH1=100\npoolsz = (2,2)",
      "execution_count": 36,
      "outputs": []
    },
    {
      "metadata": {
        "trusted": true,
        "_uuid": "705d112e53f1ea87c390453f1d76baa0ec97c2f7"
      },
      "cell_type": "code",
      "source": "#bias and weights\n#Convolution\nw1_shape = (5,5,3,20)\nw1_init = init_filter(w1_shape, poolsz)\nb1_init = np.zeros(w1_shape[-1], dtype = np.float32)\n\nw2_shape = (3,3,20,50)\nw2_init = init_filter(w2_shape, poolsz)\nb2_init = np.zeros(w2_shape[-1], dtype = np.float32)\n\nw3_shape = (13,13,50,100)\nw3_init = init_filter(w3_shape, poolsz)\nb3_init = np.zeros(w3_shape[-1], dtype = np.float32)\n\nw4_shape = (7,7,100,K)\nw4_init = init_filter(w4_shape, poolsz)\nb4_init = np.zeros(w4_shape[-1], dtype = np.float32)",
      "execution_count": 37,
      "outputs": []
    },
    {
      "metadata": {
        "trusted": true,
        "_uuid": "20b4f4b97017e976ef87cac4f6a4fd8037042691"
      },
      "cell_type": "code",
      "source": "#tf variables and place holders\nx = tf.placeholder(tf.float32, shape=(None,50,50,3), name='x')\nt = tf.placeholder(tf.float32, shape=(None, K), name = 't')\nw1 = tf.Variable(w1_init.astype(np.float32))\nb1 = tf.Variable(b1_init.astype(np.float32))\nw2 = tf.Variable(w2_init.astype(np.float32))\nb2 = tf.Variable(b2_init.astype(np.float32))\nw3 = tf.Variable(w3_init.astype(np.float32))\nb3 = tf.Variable(b3_init.astype(np.float32))\nw4 = tf.Variable(w4_init.astype(np.float32))\nb4 = tf.Variable(b4_init.astype(np.float32))",
      "execution_count": 38,
      "outputs": []
    },
    {
      "metadata": {
        "trusted": true,
        "_uuid": "fef3c9f85c4f44a3db17753833f720fb8e97b0d8"
      },
      "cell_type": "code",
      "source": "x_train.shape",
      "execution_count": 39,
      "outputs": [
        {
          "output_type": "execute_result",
          "execution_count": 39,
          "data": {
            "text/plain": "(17150, 50, 50, 3)"
          },
          "metadata": {}
        }
      ]
    },
    {
      "metadata": {
        "trusted": true,
        "_uuid": "e75d507cd4bfd4e26b087cf69eec288ef801345a"
      },
      "cell_type": "code",
      "source": "#define model\nc_out1 = convolution(x, w1, b1, \"SAME\")\nz1 = pooling(c_out1)\n\nc_out2 = convolution(z1, w2, b2, \"SAME\")\nz2 = pooling(c_out2)\n\nc_out3 = convolution(z2, w3, b3, \"SAME\")\nz3 = pooling(c_out3)\n\nc_out4 = convolution(z3, w4, b4, \"VALID\")\n\ncalcY = tf.reshape(c_out4,[-1,K])\n#cost\ncost = tf.reduce_sum(\n        tf.nn.sigmoid_cross_entropy_with_logits(\n            logits=calcY,\n            labels=t\n        )\n    )\n#optimizer - adam\ntrain_op = tf.train.AdamOptimizer(0.001).minimize(cost)\n#optimizer - RMS Prop\n#train_op = tf.train.RMSPropOptimizer(0.01, decay=0.99, momentum=0.9).minimize(cost)\n#softmax - predict probability for each class\npredictor_y_prob = tf.nn.sigmoid(calcY)\n#y predicted\npredictor_y = tf.round(predictor_y_prob)",
      "execution_count": 40,
      "outputs": []
    },
    {
      "metadata": {
        "trusted": true,
        "_uuid": "e6a93fba9880b8529e7cd4919aedd24ed30f8e2f"
      },
      "cell_type": "code",
      "source": "#arrays\ntest_costs = []\ntrain_costs = []",
      "execution_count": 41,
      "outputs": []
    },
    {
      "metadata": {
        "trusted": true,
        "_uuid": "b3d78de9f223bb68b794d49a52242488e7861019"
      },
      "cell_type": "code",
      "source": "y_train.shape",
      "execution_count": 42,
      "outputs": [
        {
          "output_type": "execute_result",
          "execution_count": 42,
          "data": {
            "text/plain": "(17150, 1)"
          },
          "metadata": {}
        }
      ]
    },
    {
      "metadata": {
        "trusted": true,
        "_uuid": "613b16d1372d211a87fe8590cc73710104ee1b5a"
      },
      "cell_type": "code",
      "source": "batch_sz = 50\n#initializing session\ninit = tf.global_variables_initializer()\nwith tf.Session() as session:\n    session.run(init)\n    \n    for i in range(50):\n        for j in range(500):\n            Xbatch = x_train[j*batch_sz:(j*batch_sz + batch_sz),]\n            Ybatch = y_train[j*batch_sz:(j*batch_sz + batch_sz),]\n            if len(Xbatch) == batch_sz:\n                session.run(train_op, feed_dict={x:Xbatch, t:Ybatch})\n                #train\n                train_cost = session.run(cost, feed_dict={x: Xbatch, t: Ybatch})\n                train_costs.append(train_cost)\n                \n    #z = session.run(z2r, feed_dict={x:x_train})\n    y_train_predicted = session.run(predictor_y, feed_dict={x: x_train})\n    y_train_predicted_prob = session.run(predictor_y_prob, feed_dict={x: x_train})\n    \n    y_test_predicted_prob = session.run(predictor_y_prob, feed_dict={x: x_test})\n    y_test_predicted = session.run(predictor_y, feed_dict={x: x_test})\n    #wtest = session.run(calcY, feed_dict={x: x_test})",
      "execution_count": 43,
      "outputs": [
        {
          "output_type": "stream",
          "text": "\n 98%|█████████▊| 24492/25001 [01:05<00:01, 479.85it/s]\u001b[A",
          "name": "stderr"
        }
      ]
    },
    {
      "metadata": {
        "trusted": true,
        "_uuid": "de092d1bd12655a19c30132540423dfded653176"
      },
      "cell_type": "code",
      "source": "plt.plot(train_costs)\nplt.plot(test_costs)\nplt.show()",
      "execution_count": 44,
      "outputs": [
        {
          "output_type": "display_data",
          "data": {
            "text/plain": "<Figure size 432x288 with 1 Axes>",
            "image/png": "[encoded data removed]"
          },
          "metadata": {}
        }
      ]
    },
    {
      "metadata": {
        "trusted": true,
        "_uuid": "36e5545db1fb128dec06d1ef4d987966824f9f65"
      },
      "cell_type": "code",
      "source": "#y_test_df = np.array(y_test_predicted)\n#y_test_index_df = np.array(y_test_index)\n#y_test_df\nerr = error_rate(y_test, y_test_predicted)\nerr",
      "execution_count": 45,
      "outputs": [
        {
          "output_type": "execute_result",
          "execution_count": 45,
          "data": {
            "text/plain": "0.21551020408163266"
          },
          "metadata": {}
        }
      ]
    },
    {
      "metadata": {
        "trusted": true,
        "_uuid": "c4c38337ccef59d02a49f70763aff9f28df66999"
      },
      "cell_type": "code",
      "source": "FPR, TPR, _ = roc_curve(y_test, y_test_predicted_prob)\nAUC = auc(FPR, TPR)\nplt.figure()\nplt.plot(FPR, TPR, label='ROC curve (area = %0.2f)' % AUC)\nplt.plot([0, 1], [0, 1], 'r--')\nplt.xlim([0.0, 1.0])\nplt.ylim([0.0, 1.02])\nplt.xlabel('False Positive Rate')\nplt.ylabel('True Positive Rate')\nplt.title('ROC Curve')\nplt.legend(loc=\"lower right\")\nplt.show()",
      "execution_count": 46,
      "outputs": [
        {
          "output_type": "display_data",
          "data": {
            "text/plain": "<Figure size 432x288 with 1 Axes>",
            "image/png": "[encoded data removed]"
          },
          "metadata": {}
        }
      ]
    },
    {
      "metadata": {
        "trusted": true,
        "_uuid": "bf70a13c29bc7673f94cfe560478b2ba6949b8ea"
      },
      "cell_type": "code",
      "source": "print(train_costs[-1])",
      "execution_count": 51,
      "outputs": [
        {
          "output_type": "stream",
          "text": "0.026158817\n",
          "name": "stdout"
        }
      ]
    }
  ],
  "metadata": {
    "kernelspec": {
      "display_name": "Python 3",
      "language": "python",
      "name": "python3"
    },
    "language_info": {
      "name": "python",
      "version": "3.6.6",
      "mimetype": "text/x-python",
      "codemirror_mode": {
        "name": "ipython",
        "version": 3
      },
      "pygments_lexer": "ipython3",
      "nbconvert_exporter": "python",
      "file_extension": ".py"
    }
  },
  "nbformat": 4,
  "nbformat_minor": 1
}
