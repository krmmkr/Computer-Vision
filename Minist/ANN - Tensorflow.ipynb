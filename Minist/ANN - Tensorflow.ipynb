{
  "cells": [
    {
      "metadata": {
        "_uuid": "8f2839f25d086af736a60e9eeb907d3b93b6e0e5",
        "_cell_guid": "b1076dfc-b9ad-4769-8c92-a6c4dae69d19",
        "trusted": true,
        "scrolled": true
      },
      "cell_type": "code",
      "source": "# This Python 3 environment comes with many helpful analytics libraries installed\n# It is defined by the kaggle/python docker image: https://github.com/kaggle/docker-python\n# For example, here's several helpful packages to load in \n\nimport numpy as np # linear algebra\nimport pandas as pd # data processing, CSV file I/O (e.g. pd.read_csv)\nimport tensorflow as tf\nimport matplotlib.pyplot as plt\nfrom sklearn.metrics import accuracy_score \nfrom sklearn.model_selection import train_test_split\n# Input data files are available in the \"../input/\" directory.\n# For example, running this (by clicking run or pressing Shift+Enter) will list the files in the input directory\n\nimport os\nprint(os.listdir(\"../input\"))\n\n# Any results you write to the current directory are saved as output.",
      "execution_count": 80,
      "outputs": [
        {
          "output_type": "stream",
          "text": "['sample_submission.csv', 'test.csv', 'train.csv']\n",
          "name": "stdout"
        }
      ]
    },
    {
      "metadata": {
        "trusted": true,
        "_uuid": "bde9133cc46a00648027bfef89321fb11ccecb80"
      },
      "cell_type": "code",
      "source": "def error_rate(p, t):\n    return np.mean(p != t)\ndef standardize(x):\n    return x/255",
      "execution_count": 105,
      "outputs": []
    },
    {
      "metadata": {
        "_cell_guid": "79c7e3d0-c299-4dcb-8224-4455121ee9b0",
        "_uuid": "d629ff2d2480ee46fbb7e2d37f6b5fab8052498a",
        "trusted": true
      },
      "cell_type": "code",
      "source": "data = pd.read_csv(\"../input/train.csv\")",
      "execution_count": 82,
      "outputs": []
    },
    {
      "metadata": {
        "trusted": true,
        "_uuid": "0535c809e176e670c6e3efb65d6c708674716ed0"
      },
      "cell_type": "code",
      "source": "y=data[\"label\"]\nx=data.drop(\"label\",axis=1)\n#train\nx_train, x_test, y_train_index, y_test_index = train_test_split(x, y, test_size=0.3, random_state=1)\nx_train = standardize(x_train)\nx_test = standardize(x_test)\ny_train = pd.get_dummies(y_train_index)\ny_test = pd.get_dummies(y_test_index)",
      "execution_count": 106,
      "outputs": []
    },
    {
      "metadata": {
        "trusted": true,
        "_uuid": "7a07c45d08aab33a0dcca50109caa75a43a9b3ba"
      },
      "cell_type": "code",
      "source": "#hyperparameters\nmax_iter=15\nlr=0.001\nN, D = x_train.shape\nH1 = 100\nH2 = 100\nK = 10\nprint(N)\nprint(D)",
      "execution_count": 107,
      "outputs": [
        {
          "output_type": "stream",
          "text": "29400\n784\n",
          "name": "stdout"
        }
      ]
    },
    {
      "metadata": {
        "trusted": true,
        "_uuid": "cb7d29adf039b47b46fd59addc04062924f157fc"
      },
      "cell_type": "code",
      "source": "#bias and weights\nW1_init = np.random.randn(D, H1)\nb1_init = np.zeros(H1)\nW2_init = np.random.randn(H1, H2)\nb2_init = np.zeros(H2)\nW3_init = np.random.randn(H2, K)\nb3_init = np.zeros(K)",
      "execution_count": 109,
      "outputs": []
    },
    {
      "metadata": {
        "trusted": true,
        "_uuid": "e1d7a6cc7c624ca1890d47eb7d4f37089d49f7a5"
      },
      "cell_type": "code",
      "source": "#tensorflow variables and placeholders\nx = tf.placeholder(tf.float32, shape=(None, D), name = 'x')\nt = tf.placeholder(tf.float32, shape=(None, K), name = 't')\nW1 = tf.Variable(W1_init.astype(np.float32))\nb1 = tf.Variable(b1_init.astype(np.float32))\nW2 = tf.Variable(W2_init.astype(np.float32))\nb2 = tf.Variable(b2_init.astype(np.float32))\nW3 = tf.Variable(W3_init.astype(np.float32))\nb3 = tf.Variable(b3_init.astype(np.float32))",
      "execution_count": 111,
      "outputs": []
    },
    {
      "metadata": {
        "trusted": true,
        "_uuid": "468f3d0af74a3d891ccd99320fbb2b3161d9ebda",
        "scrolled": false
      },
      "cell_type": "code",
      "source": "#define model\nZ1 = tf.nn.relu(tf.matmul(x, W1) + b1)\nZ2 = tf.nn.relu(tf.matmul(Z1, W2) + b2)\ncalcY = tf.matmul(Z2, W3) + b3\n\n#cost\ncost = tf.reduce_sum(tf.nn.softmax_cross_entropy_with_logits_v2(logits=calcY, labels=t))\n#optimizer - gradient descent\noptimizer = tf.train.GradientDescentOptimizer(lr).minimize(cost)\n#optimizer - RMS Prop\ntrain_op = tf.train.RMSPropOptimizer(lr, decay=0.99, momentum=0.9).minimize(cost)\n#softmax - predict probability for each class\npredictor_y_prob = tf.nn.softmax(calcY)\n#y predicted\npredictor_y = tf.argmax(predictor_y_prob, 1)",
      "execution_count": 112,
      "outputs": []
    },
    {
      "metadata": {
        "trusted": true,
        "_uuid": "d96618bb01708b5c41f79fdd8e090f84d7bc5192"
      },
      "cell_type": "code",
      "source": "#arrays\ntest_costs = []\ntrain_costs = []\ntest_accuracy = []\ntrain_accuracy = []",
      "execution_count": 113,
      "outputs": []
    },
    {
      "metadata": {
        "trusted": true,
        "_uuid": "0d426e612f4c3a51bb2b335243b739904be35b5d"
      },
      "cell_type": "code",
      "source": "#initializing session\ninit = tf.global_variables_initializer()\nwith tf.Session() as session:\n    session.run(init)\n    \n    for i in range(50):\n        session.run(train_op, feed_dict={x:x_train, t:y_train})\n        #train\n        y_train_predicted = session.run(predictor_y, feed_dict={x: x_train})\n        y_train_predicted_prob = session.run(predictor_y_prob, feed_dict={x: x_train})\n        train_cost = session.run(cost, feed_dict={x: x_train, t: y_train})\n        train_costs.append(train_cost)\n        #test\n        test_cost = session.run(cost, feed_dict={x: x_test, t: y_test})\n        y_test_predicted = session.run(predictor_y, feed_dict={x: x_test})\n        test_costs.append(test_cost)",
      "execution_count": 114,
      "outputs": []
    },
    {
      "metadata": {
        "trusted": true,
        "_uuid": "99a0787c06255cd5364311b1b23348173a00bbd0",
        "_kg_hide-output": false,
        "scrolled": true
      },
      "cell_type": "code",
      "source": "plt.plot(train_costs)\nplt.plot(test_costs)\nplt.show()",
      "execution_count": 115,
      "outputs": [
        {
          "output_type": "display_data",
          "data": {
            "text/plain": "<Figure size 432x288 with 1 Axes>",
            "image/png": "[encoded data removed]"
          },
          "metadata": {}
        }
      ]
    },
    {
      "metadata": {
        "trusted": true,
        "_uuid": "73ce3ce3d7c22186cf6847aab995a0d37d37239a"
      },
      "cell_type": "code",
      "source": "y_test_df = np.array(y_test_predicted)\ny_test_index_df = np.array(y_test_index)\ny_test_df\nerr = error_rate(y_test_df, y_test_index_df)\nerr",
      "execution_count": 116,
      "outputs": [
        {
          "output_type": "execute_result",
          "execution_count": 116,
          "data": {
            "text/plain": "0.12936507936507938"
          },
          "metadata": {}
        }
      ]
    }
  ],
  "metadata": {
    "kernelspec": {
      "display_name": "Python 3",
      "language": "python",
      "name": "python3"
    },
    "language_info": {
      "name": "python",
      "version": "3.6.6",
      "mimetype": "text/x-python",
      "codemirror_mode": {
        "name": "ipython",
        "version": 3
      },
      "pygments_lexer": "ipython3",
      "nbconvert_exporter": "python",
      "file_extension": ".py"
    }
  },
  "nbformat": 4,
  "nbformat_minor": 1
}
